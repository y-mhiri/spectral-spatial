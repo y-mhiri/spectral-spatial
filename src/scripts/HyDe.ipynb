{
 "cells": [
  {
   "cell_type": "code",
   "execution_count": 3,
   "metadata": {},
   "outputs": [],
   "source": [
    "import sys\n",
    "sys.path.append('../datasets')\n",
    "\n",
    "import torch\n",
    "import hyde \n",
    "\n",
    "import matplotlib.pyplot as plt\n",
    "\n",
    "from datasets import HSIDataset\n",
    "from torchvision import transforms\n",
    "from math import sqrt"
   ]
  },
  {
   "cell_type": "code",
   "execution_count": 38,
   "metadata": {},
   "outputs": [],
   "source": [
    "# Define device (default is \"cpu\")\n",
    "device = \"cuda\" \n",
    "\n",
    "# Define dtype\n",
    "dtype = torch.float32\n",
    "\n",
    "# Define random seed\n",
    "seed = 42\n",
    "torch.manual_seed(seed)\n",
    "\n",
    "# Define data path\n",
    "data_path = '/home/mhiriy/data/harvard.zarr'\n",
    "\n",
    "# Signal to Noise Ratio\n",
    "SNR = 10"
   ]
  },
  {
   "cell_type": "code",
   "execution_count": 39,
   "metadata": {},
   "outputs": [],
   "source": [
    "# Load Datasets \n",
    "val_transform = transforms.Compose([transforms.ToTensor()]) # Transforms a the input data to torch tensors\n",
    "dataset = HSIDataset(root_dir=data_path, split='train', transform=val_transform)\n",
    "\n",
    "# Choose the index of the selected image in the dataset (ENMAP dataset contains 11 000 images)\n",
    "idx = 43\n",
    "x = dataset[idx].unsqueeze(0).to(device=device,dtype=dtype) # import image to device (cpu or gpu), sizes of x is [1,number of bands, width, height]\n",
    "# Adds a small amount of white gaussian noise to the input HSI (sigma2 = 1e-4)\n",
    "x += 1e-2*torch.rand_like(x, device=device, dtype=dtype)/torch.norm(x)\n",
    "\n",
    "# Adds noise to the input HSI\n",
    "sigma2 = 10**(-SNR/10) * torch.norm(x, dim=[2,3])**2 / x.shape[2] / x.shape[3]\n",
    "sigma2 = sigma2.unsqueeze(0).unsqueeze(1).reshape(1, sigma2.numel(), 1, 1)\n",
    "sigma2 = sigma2.repeat(1, 1, x.shape[2], x.shape[3])\n",
    "\n",
    "y = x + torch.sqrt(sigma2)*torch.randn_like(x, device=device, dtype=dtype)\n"
   ]
  },
  {
   "cell_type": "code",
   "execution_count": 40,
   "metadata": {},
   "outputs": [],
   "source": [
    "## FastHyDe method with a BM3D denoiser\n",
    "method = hyde.FastHyDe()\n",
    "output_hyde = method(y.squeeze(0).permute(1,2,0), noise_type=\"additive\", iid=True, k_subspace=10, normalize=True)\n",
    "output_hyde = output_hyde.permute(2,0,1).unsqueeze(0)\n"
   ]
  },
  {
   "cell_type": "code",
   "execution_count": null,
   "metadata": {},
   "outputs": [],
   "source": [
    "## Using a pretrained model\n",
    "\n",
    "path_to_model = '..//algorithms/HyDe/pretrained-models/qrnn3d/hyde-bs16-blindSNR-gaussian-qrnn3d-l2.pth'\n",
    "method = hyde.NNInference(arch=\"qrnn3d\", pretrained_file=path_to_model)\n",
    "output_qrnn3D = method(y.unsqueeze(0), band_dim=1, permute=False).squeeze(0)\n"
   ]
  },
  {
   "cell_type": "code",
   "execution_count": null,
   "metadata": {},
   "outputs": [],
   "source": [
    "\n",
    "\n",
    "out = output_qrnn3D\n",
    "cmap = 'bone'\n",
    "\n",
    "band_index = [0, 10, 50, 100, 200]\n",
    "\n",
    "plt.figure(figsize=(30, 5))\n",
    "for i, idx in enumerate(band_index):\n",
    "    plt.subplot(151+i)\n",
    "    plt.imshow(x[0, idx, ...].cpu().numpy(), cmap=cmap)\n",
    "    plt.colorbar()\n",
    "    plt.title('Ground Truth HSI - bands = {}'.format(idx))\n",
    "    plt.axis('off')\n",
    "\n",
    "plt.figure(figsize=(30, 5))\n",
    "for i, idx in enumerate(band_index):\n",
    "    plt.subplot(151+i)\n",
    "    plt.imshow(y[0, idx, ...].cpu().numpy(), cmap=cmap)\n",
    "    plt.colorbar()\n",
    "    plt.title('Noisy HSI - band = {}'.format(idx))\n",
    "    plt.axis('off')\n",
    "\n",
    "plt.figure(figsize=(30, 5))\n",
    "for i, idx in enumerate(band_index):\n",
    "    plt.subplot(151+i)\n",
    "    plt.imshow(out[0, idx, ...].cpu().numpy(), cmap=cmap)\n",
    "    plt.colorbar()\n",
    "    plt.title('Denoised HSI - band = {}'.format(idx))\n",
    "    plt.axis('off')\n",
    "\n",
    "plt.show()"
   ]
  },
  {
   "cell_type": "code",
   "execution_count": null,
   "metadata": {},
   "outputs": [],
   "source": [
    "from datasets import get_eigenimages\n",
    "\n",
    "z = get_eigenimages(x)\n",
    "z_est = get_eigenimages(output_qrnn3D)\n",
    "z_noisy = get_eigenimages(y)\n",
    "\n",
    "eigen_index = [1,3,5,7,9]\n",
    "\n",
    "cmap = 'bone'\n",
    "\n",
    "plt.figure(figsize=(30, 5))\n",
    "for i, idx in enumerate(eigen_index):\n",
    "    plt.subplot(151+i)\n",
    "    plt.imshow(z[0, idx, ...].cpu().numpy(), cmap=cmap)\n",
    "    plt.colorbar()\n",
    "    plt.title('Eigenimage {}'.format(idx))\n",
    "    plt.axis('off')\n",
    "\n",
    "plt.figure(figsize=(30, 5))\n",
    "for i, idx in enumerate(eigen_index):\n",
    "    plt.subplot(151+i)\n",
    "    plt.imshow(z_noisy[0, idx, ...].cpu().numpy(), cmap=cmap)\n",
    "    plt.colorbar()\n",
    "    plt.title('Noisy Eigenimage {}'.format(idx))\n",
    "    plt.axis('off')\n",
    "\n",
    "plt.figure(figsize=(30, 5))\n",
    "for i, idx in enumerate(eigen_index):\n",
    "    plt.subplot(151+i)\n",
    "    plt.imshow(z_est[0, idx, ...].cpu().numpy(), cmap=cmap)\n",
    "    plt.colorbar()\n",
    "    plt.title('Denoised Eigenimage {}'.format(idx))\n",
    "    plt.axis('off')\n",
    "\n",
    "plt.show()"
   ]
  }
 ],
 "metadata": {
  "kernelspec": {
   "display_name": "base-3.8.8",
   "language": "python",
   "name": "python3"
  },
  "language_info": {
   "codemirror_mode": {
    "name": "ipython",
    "version": 3
   },
   "file_extension": ".py",
   "mimetype": "text/x-python",
   "name": "python",
   "nbconvert_exporter": "python",
   "pygments_lexer": "ipython3",
   "version": "3.8.8"
  }
 },
 "nbformat": 4,
 "nbformat_minor": 2
}
