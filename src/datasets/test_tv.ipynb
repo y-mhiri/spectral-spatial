{
 "cells": [
  {
   "cell_type": "code",
   "execution_count": 1,
   "metadata": {},
   "outputs": [],
   "source": [
    "import sys\n",
    "sys.path.append('../datasets')\n",
    "\n",
    "import torch\n",
    "\n",
    "import matplotlib.pyplot as plt\n",
    "\n",
    "from pansharpening import PANDataset\n",
    "\n",
    "from torchvision import transforms\n",
    "from math import sqrt"
   ]
  },
  {
   "cell_type": "code",
   "execution_count": 2,
   "metadata": {},
   "outputs": [],
   "source": [
    "# Define device (default is \"cpu\")\n",
    "device = \"cpu\" \n",
    "\n",
    "# Define dtype\n",
    "dtype = torch.float64\n",
    "\n",
    "# Define random seed\n",
    "seed = 42\n",
    "torch.manual_seed(seed)\n",
    "\n",
    "# Define data path\n",
    "data_path = '/home/ndiayem/Documents/spectral-spatial/data/harvard.zarr'"
   ]
  },
  {
   "cell_type": "code",
   "execution_count": 3,
   "metadata": {},
   "outputs": [],
   "source": [
    "#val_transform = transforms.Compose([transforms.ToTensor()]) # Transforms a the input data to torch tensors\n",
    "dataset = PANDataset(root_dir=data_path, split='train', transform= None)"
   ]
  },
  {
   "cell_type": "code",
   "execution_count": 4,
   "metadata": {},
   "outputs": [
    {
     "data": {
      "text/plain": [
       "(1040, 1392, 31)"
      ]
     },
     "execution_count": 4,
     "metadata": {},
     "output_type": "execute_result"
    }
   ],
   "source": [
    "idx = 17\n",
    "x = dataset[idx]\n",
    "x.shape"
   ]
  },
  {
   "cell_type": "code",
   "execution_count": 5,
   "metadata": {},
   "outputs": [],
   "source": [
    "#x = dataset[idx]\n",
    "y = torch.tensor(x)\n",
    "y=y.unsqueeze(0).to(device=device, dtype=dtype)"
   ]
  },
  {
   "cell_type": "code",
   "execution_count": null,
   "metadata": {},
   "outputs": [
    {
     "name": "stdout",
     "output_type": "stream",
     "text": [
      "Forme après flou (bande 0): (1040, 1392)\n",
      "Forme après sous-échantillonnage (bande 0): (130, 174)\n",
      "Forme après flou (bande 1): (1040, 1392)\n",
      "Forme après sous-échantillonnage (bande 1): (130, 174)\n",
      "Forme après flou (bande 2): (1040, 1392)\n",
      "Forme après sous-échantillonnage (bande 2): (130, 174)\n",
      "Forme après flou (bande 3): (1040, 1392)\n",
      "Forme après sous-échantillonnage (bande 3): (130, 174)\n",
      "Forme après flou (bande 4): (1040, 1392)\n",
      "Forme après sous-échantillonnage (bande 4): (130, 174)\n",
      "Forme après flou (bande 5): (1040, 1392)\n",
      "Forme après sous-échantillonnage (bande 5): (130, 174)\n",
      "Forme après flou (bande 6): (1040, 1392)\n",
      "Forme après sous-échantillonnage (bande 6): (130, 174)\n",
      "Forme après flou (bande 7): (1040, 1392)\n",
      "Forme après sous-échantillonnage (bande 7): (130, 174)\n",
      "Forme après flou (bande 8): (1040, 1392)\n",
      "Forme après sous-échantillonnage (bande 8): (130, 174)\n",
      "Forme après flou (bande 9): (1040, 1392)\n",
      "Forme après sous-échantillonnage (bande 9): (130, 174)\n",
      "Forme après flou (bande 10): (1040, 1392)\n",
      "Forme après sous-échantillonnage (bande 10): (130, 174)\n",
      "Forme après flou (bande 11): (1040, 1392)\n",
      "Forme après sous-échantillonnage (bande 11): (130, 174)\n",
      "Forme après flou (bande 12): (1040, 1392)\n",
      "Forme après sous-échantillonnage (bande 12): (130, 174)\n",
      "Forme après flou (bande 13): (1040, 1392)\n",
      "Forme après sous-échantillonnage (bande 13): (130, 174)\n",
      "Forme après flou (bande 14): (1040, 1392)\n",
      "Forme après sous-échantillonnage (bande 14): (130, 174)\n",
      "Forme après flou (bande 15): (1040, 1392)\n",
      "Forme après sous-échantillonnage (bande 15): (130, 174)\n",
      "Forme après flou (bande 16): (1040, 1392)\n",
      "Forme après sous-échantillonnage (bande 16): (130, 174)\n",
      "Forme après flou (bande 17): (1040, 1392)\n",
      "Forme après sous-échantillonnage (bande 17): (130, 174)\n",
      "Forme après flou (bande 18): (1040, 1392)\n",
      "Forme après sous-échantillonnage (bande 18): (130, 174)\n",
      "Forme après flou (bande 19): (1040, 1392)\n",
      "Forme après sous-échantillonnage (bande 19): (130, 174)\n",
      "Forme après flou (bande 20): (1040, 1392)\n",
      "Forme après sous-échantillonnage (bande 20): (130, 174)\n",
      "Forme après flou (bande 21): (1040, 1392)\n",
      "Forme après sous-échantillonnage (bande 21): (130, 174)\n",
      "Forme après flou (bande 22): (1040, 1392)\n",
      "Forme après sous-échantillonnage (bande 22): (130, 174)\n",
      "Forme après flou (bande 23): (1040, 1392)\n",
      "Forme après sous-échantillonnage (bande 23): (130, 174)\n",
      "Forme après flou (bande 24): (1040, 1392)\n",
      "Forme après sous-échantillonnage (bande 24): (130, 174)\n",
      "Forme après flou (bande 25): (1040, 1392)\n",
      "Forme après sous-échantillonnage (bande 25): (130, 174)\n",
      "Forme après flou (bande 26): (1040, 1392)\n",
      "Forme après sous-échantillonnage (bande 26): (130, 174)\n",
      "Forme après flou (bande 27): (1040, 1392)\n",
      "Forme après sous-échantillonnage (bande 27): (130, 174)\n",
      "Forme après flou (bande 28): (1040, 1392)\n",
      "Forme après sous-échantillonnage (bande 28): (130, 174)\n",
      "Forme après flou (bande 29): (1040, 1392)\n",
      "Forme après sous-échantillonnage (bande 29): (130, 174)\n",
      "Forme après flou (bande 30): (1040, 1392)\n",
      "Forme après sous-échantillonnage (bande 30): (130, 174)\n"
     ]
    },
    {
     "ename": "TypeError",
     "evalue": "PANDataset.spectral() takes 1 positional argument but 2 were given",
     "output_type": "error",
     "traceback": [
      "\u001b[0;31m---------------------------------------------------------------------------\u001b[0m",
      "\u001b[0;31mTypeError\u001b[0m                                 Traceback (most recent call last)",
      "Cell \u001b[0;32mIn[6], line 5\u001b[0m\n\u001b[1;32m      3\u001b[0m B \u001b[38;5;241m=\u001b[39m dataset\u001b[38;5;241m.\u001b[39mprocess_hyperspectral_image(x,\u001b[38;5;241m8\u001b[39m)\n\u001b[1;32m      4\u001b[0m B_t \u001b[38;5;241m=\u001b[39m dataset\u001b[38;5;241m.\u001b[39mprocess_hyperspectral_image_adjoint(B,\u001b[38;5;241m8\u001b[39m)                                                               \u001b[38;5;66;03m# Transposée de B\u001b[39;00m\n\u001b[0;32m----> 5\u001b[0m R \u001b[38;5;241m=\u001b[39m \u001b[43mdataset\u001b[49m\u001b[38;5;241;43m.\u001b[39;49m\u001b[43mspectral\u001b[49m\u001b[43m(\u001b[49m\u001b[43mx\u001b[49m\u001b[43m)\u001b[49m            \u001b[38;5;66;03m# Matrice de projection\u001b[39;00m\n",
      "\u001b[0;31mTypeError\u001b[0m: PANDataset.spectral() takes 1 positional argument but 2 were given"
     ]
    }
   ],
   "source": [
    "Y_H = x # Image multispectrale\n",
    "Y_M = torch.sum(y, dim=3).unsqueeze(1)/y.shape[3]           # Matrice de transformation\n",
    "B = dataset.process_hyperspectral_image(x,8)\n",
    "B_t = dataset.process_hyperspectral_image_adjoint(B,8)                                                               # Transposée de B\n",
    "R = dataset.spectral()            # Matrice de projection"
   ]
  },
  {
   "cell_type": "code",
   "execution_count": null,
   "metadata": {},
   "outputs": [],
   "source": [
    "# Instanciation de l'algorithme\n",
    "pansharpening_model = ProximalGradient(max_iter=100, lmbda=0.1, lmbda_m=1, tau=0.1, verbose=True)\n",
    "\n",
    "# Exécution de l'optimisation\n",
    "U_result = pansharpening_model.forward(Y_H, Y_M, B, B_t, R)"
   ]
  },
  {
   "cell_type": "code",
   "execution_count": null,
   "metadata": {},
   "outputs": [],
   "source": [
    "import matplotlib.pyplot as plt\n",
    "\n",
    "plt.figure(figsize=(10, 5))\n",
    "plt.subplot(1, 2, 1)\n",
    "plt.title('Image Multispectrale')\n",
    "plt.imshow(Y_H.numpy())\n",
    "plt.subplot(1, 2, 2)\n",
    "plt.title('Image Fusionnée')\n",
    "plt.imshow(U_result.detach().numpy())\n",
    "plt.show()"
   ]
  }
 ],
 "metadata": {
  "kernelspec": {
   "display_name": "env",
   "language": "python",
   "name": "python3"
  },
  "language_info": {
   "codemirror_mode": {
    "name": "ipython",
    "version": 3
   },
   "file_extension": ".py",
   "mimetype": "text/x-python",
   "name": "python",
   "nbconvert_exporter": "python",
   "pygments_lexer": "ipython3",
   "version": "3.11.11"
  }
 },
 "nbformat": 4,
 "nbformat_minor": 2
}
