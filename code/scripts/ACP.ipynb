{
 "cells": [
  {
   "cell_type": "code",
   "execution_count": 2,
   "metadata": {},
   "outputs": [],
   "source": [
    "import sys\n",
    "sys.path.append('../datasets')\n",
    "\n",
    "import torch\n",
    "import matplotlib.pyplot as plt\n",
    "\n",
    "from torchvision import transforms\n",
    "from torch.linalg import svd\n",
    "from math import sqrt\n",
    "\n",
    "from datasets import HSIDataset"
   ]
  },
  {
   "cell_type": "code",
   "execution_count": 4,
   "metadata": {},
   "outputs": [],
   "source": [
    "# Define device (default is \"cpu\")\n",
    "device = \"cpu\"\n",
    "\n",
    "# Define dtype\n",
    "dtype = torch.float32\n",
    "\n",
    "# Define random seed\n",
    "seed = 42\n",
    "torch.manual_seed(seed)\n",
    "\n",
    "# Define data path\n",
    "data_path = '/home/mhiriy/data/harvard.zarr'\n",
    "\n",
    "# Define Signal to noise ratio\n",
    "SNR = 10"
   ]
  },
  {
   "cell_type": "code",
   "execution_count": 5,
   "metadata": {},
   "outputs": [],
   "source": [
    "# Load Datasets \n",
    "val_transform = transforms.Compose([transforms.ToTensor()]) # Transforms a the input data to torch tensors\n",
    "dataset = HSIDataset(root_dir=data_path, split='train', transform=val_transform)\n",
    "\n",
    "# Choose the index of the selected image in the dataset (ENMAP dataset contains 11 000 images)\n",
    "idx = 43\n",
    "x = dataset[idx].unsqueeze(0).to(device=device,dtype=dtype) # import image to device (cpu or gpu), sizes of x is [1,number of bands, width, height]\n",
    "# Adds a small amount of white gaussian noise to the input HSI (sigma2 = 1e-4)\n",
    "x += 1e-2*torch.rand_like(x, device=device, dtype=dtype)/torch.norm(x)\n",
    "\n",
    "# Adds noise to the input HSI\n",
    "sigma2 = 10**(-SNR/10) * torch.norm(x, dim=[2,3])**2 / x.shape[2] / x.shape[3]\n",
    "sigma2 = sigma2.unsqueeze(0).unsqueeze(1).reshape(1, sigma2.numel(), 1, 1)\n",
    "sigma2 = sigma2.repeat(1, 1, x.shape[2], x.shape[3])\n",
    "\n",
    "y = x + torch.sqrt(sigma2)*torch.randn_like(x, device=device, dtype=dtype)\n"
   ]
  },
  {
   "cell_type": "markdown",
   "metadata": {},
   "source": [
    "## Eigenimages\n",
    "\n",
    "---\n",
    "An Hyperspectral Image (HSI) composed of $m$ bands and $n$ pixels is expressed a matrix of size $m\\times n$ :\n",
    "$$\n",
    "    X = [x_1, \\dots, x_n] \\in \\mathbb{R}^{m\\times n},\n",
    "$$\n",
    "in which each $x_i$ is the $m$-dimensional spectral vector associated to the $i^{th}$ pixel.\n",
    "\n",
    "---\n",
    "We assume that the spectral vector live in $k$-dimensional subspace, and write,\n",
    "$$\n",
    "X = EZ.\n",
    "$$\n",
    "where $E\\in\\mathbb{R}^{m\\times k}$ stores the basis vector and $Z\\in\\mathbb{R}^{k\\times n}$ the coefficients of each spectra.\n",
    "\n",
    "In this context, an **eigenimage** is an image of coefficient for a specific vector ($Z_{i,:}$).\n",
    "\n",
    "---\n",
    "In this script, we compute the basis vector using an SVD.\n",
    "\n",
    "\n"
   ]
  },
  {
   "cell_type": "code",
   "execution_count": 6,
   "metadata": {},
   "outputs": [],
   "source": [
    "# Reshape HSI cubes to matrices of size [number of bands, number of pixels]\n",
    "x_mat = x.reshape(x.shape[1], -1)\n",
    "y_mat = y.reshape(y.shape[1], -1)\n",
    "\n",
    "# Singular Value Decomposition of noisy and true HSI\n",
    "U, s, V = svd(x_mat, full_matrices=False)\n",
    "U_noisy, s_noisy, V_noisy = svd(y_mat, full_matrices=False)\n",
    "\n",
    "# Eigenimages are the coefficient images of each HSI in the basis formed by its eigenvectors\n",
    "Z_mat = torch.diag(s) @ V\n",
    "Z = Z_mat.reshape(x.shape)\n",
    "\n",
    "Z_mat_noisy = torch.diag(s_noisy) @ V_noisy\n",
    "Z_noisy = Z_mat_noisy.reshape(y.shape)"
   ]
  },
  {
   "cell_type": "code",
   "execution_count": null,
   "metadata": {},
   "outputs": [],
   "source": [
    "# Plot the 4 first eigenimages withe colorbar\n",
    "\n",
    "plt.figure(figsize=(24, 12))\n",
    "for i in range(5):\n",
    "    plt.subplot(2, 5, i+1)\n",
    "    plt.imshow(Z[0, i, :, :], cmap='gray')\n",
    "    plt.colorbar()\n",
    "    plt.title('Eigenimage '+str(i+1)+' of the true HSI')\n",
    "    plt.axis('off')\n",
    "    plt.subplot(2, 5, i+6)\n",
    "    plt.imshow(Z_noisy[0, i, :, :], cmap='gray')\n",
    "    plt.colorbar()\n",
    "    plt.title('Eigenimage '+str(i+1)+' of the noisy HSI')\n",
    "    plt.axis('off')\n",
    "plt.tight_layout()\n",
    "plt.show()\n",
    "\n"
   ]
  }
 ],
 "metadata": {
  "kernelspec": {
   "display_name": "base-3.8.8",
   "language": "python",
   "name": "python3"
  },
  "language_info": {
   "codemirror_mode": {
    "name": "ipython",
    "version": 3
   },
   "file_extension": ".py",
   "mimetype": "text/x-python",
   "name": "python",
   "nbconvert_exporter": "python",
   "pygments_lexer": "ipython3",
   "version": "3.8.8"
  }
 },
 "nbformat": 4,
 "nbformat_minor": 2
}
